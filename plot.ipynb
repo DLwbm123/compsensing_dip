{
 "cells": [
  {
   "cell_type": "code",
   "execution_count": 1,
   "metadata": {},
   "outputs": [],
   "source": [
    "import matplotlib.pyplot as plt\n",
    "%matplotlib inline\n",
    "import numpy as np\n",
    "import torch\n",
    "from torchvision import datasets, transforms\n",
    "from matplotlib.backends.backend_pdf import PdfPages\n",
    "import operator\n",
    "import matplotlib\n",
    "matplotlib.rc('font', size=15)\n",
    "from skimage.measure import compare_ssim as ssim\n",
    "import argparse\n",
    "import utils\n",
    "import scipy.io as sio"
   ]
  },
  {
   "cell_type": "markdown",
   "metadata": {},
   "source": [
    "# CREATE AN ARTIFICIAL ARGUMENT CLASS"
   ]
  },
  {
   "cell_type": "code",
   "execution_count": 2,
   "metadata": {
    "collapsed": true
   },
   "outputs": [],
   "source": [
    "class Args(object):\n",
    "    def __init__(self):\n",
    "        pass\n",
    "    \n",
    "args = Args()"
   ]
  },
  {
   "cell_type": "markdown",
   "metadata": {},
   "source": [
    "# CHANGE THESE VARIABLES FOR DIFFERENT EXPERIMENTS"
   ]
  },
  {
   "cell_type": "code",
   "execution_count": 3,
   "metadata": {
    "collapsed": true
   },
   "outputs": [],
   "source": [
    "DATASET = 'xray' #'mnist' # \n",
    "DEMO = 'True' # 'True' \n",
    "\n",
    "NUM_MEASUREMENTS_LIST = [500,1000,2000,4000,8000] # xray\n",
    "#NUM_MEASUREMENTS_LIST = [10, 25, 50, 75, 100, 200] # mnist\n",
    "BASIS_LIST = ['csdip','bm3d', 'tval3']#'dct','wavelet','bm3d']\n",
    "\n",
    "args.DATASET = DATASET\n",
    "args.DEMO = DEMO"
   ]
  },
  {
   "cell_type": "markdown",
   "metadata": {},
   "source": [
    "# CONSTRUCT AN ARTIFICIAL ARGUMENT OBJECT"
   ]
  },
  {
   "cell_type": "code",
   "execution_count": 4,
   "metadata": {
    "collapsed": true
   },
   "outputs": [],
   "source": [
    "\n",
    "if args.DATASET == 'mnist':\n",
    "    args.IMG_SIZE = 28\n",
    "    args.NUM_CHANNELS = 1\n",
    "    args.DEMO = DEMO\n",
    "    if DEMO == 'True':\n",
    "        args.IMG_PATH = 'data/mnist_demo/'\n",
    "    else:\n",
    "        args.IMG_PATH = 'data/mnist/'\n",
    "elif args.DATASET == 'xray':\n",
    "    args.IMG_SIZE = 256\n",
    "    args.NUM_CHANNELS = 1\n",
    "    args.DEMO = DEMO\n",
    "    if args.DEMO == 'True':\n",
    "        args.IMG_PATH = 'data/xray_demo/'\n",
    "    else:\n",
    "        args.IMG_PATH = 'data/xray/'\n",
    "else:\n",
    "    raise NotImplementedError\n",
    "    \n",
    "if DEMO == 'True':\n",
    "    args.MSE_PLOT_PATH = 'plots/{0}_demo_mse.pdf'.format(DATASET)\n",
    "    args.REC_PLOT_PATH = 'plots/{0}_demo_reconstructions'.format(DATASET)\n",
    "else:\n",
    "    args.MSE_PLOT_PATH = 'plots/{0}_mse.pdf'.format(DATASET)\n",
    "    args.REC_PLOT_PATH = 'plots/{0}_reconstructions'.format(DATASET)\n"
   ]
  },
  {
   "cell_type": "markdown",
   "metadata": {},
   "source": [
    "# CREATE DATALOADER"
   ]
  },
  {
   "cell_type": "code",
   "execution_count": 5,
   "metadata": {
    "collapsed": true
   },
   "outputs": [],
   "source": [
    "dataloader = utils.get_data(args)"
   ]
  },
  {
   "cell_type": "markdown",
   "metadata": {},
   "source": [
    "# LOAD RECONSTRUCTIONS AND COMPUTE MSE"
   ]
  },
  {
   "cell_type": "code",
   "execution_count": 6,
   "metadata": {},
   "outputs": [
    {
     "ename": "IOError",
     "evalue": "[Errno 2] No such file or directory: '/home/dave/Documents/comp_sensing/cs_dip/csdip_code/cs_dip/repo_public/reconstructions/xray/csdip/meas500/im1.npy'",
     "output_type": "error",
     "traceback": [
      "\u001b[0;31m---------------------------------------------------------------------------\u001b[0m",
      "\u001b[0;31mIOError\u001b[0m                                   Traceback (most recent call last)",
      "\u001b[0;32m<ipython-input-6-1d2541223aac>\u001b[0m in \u001b[0;36m<module>\u001b[0;34m()\u001b[0m\n\u001b[1;32m     16\u001b[0m                 \u001b[0mrec\u001b[0m \u001b[0;34m=\u001b[0m \u001b[0mutils\u001b[0m\u001b[0;34m.\u001b[0m\u001b[0mrenorm_bm3d\u001b[0m\u001b[0;34m(\u001b[0m\u001b[0mrec\u001b[0m\u001b[0;34m)\u001b[0m \u001b[0;31m# convert [0,255] --> [-1,1]\u001b[0m\u001b[0;34m\u001b[0m\u001b[0m\n\u001b[1;32m     17\u001b[0m             \u001b[0;32melse\u001b[0m\u001b[0;34m:\u001b[0m\u001b[0;34m\u001b[0m\u001b[0m\n\u001b[0;32m---> 18\u001b[0;31m                 \u001b[0mrec\u001b[0m \u001b[0;34m=\u001b[0m \u001b[0mnp\u001b[0m\u001b[0;34m.\u001b[0m\u001b[0mload\u001b[0m\u001b[0;34m(\u001b[0m\u001b[0mrec_path\u001b[0m\u001b[0;34m)\u001b[0m\u001b[0;34m\u001b[0m\u001b[0m\n\u001b[0m\u001b[1;32m     19\u001b[0m             \u001b[0mn\u001b[0m \u001b[0;34m=\u001b[0m \u001b[0mrec\u001b[0m\u001b[0;34m.\u001b[0m\u001b[0mravel\u001b[0m\u001b[0;34m(\u001b[0m\u001b[0;34m)\u001b[0m\u001b[0;34m.\u001b[0m\u001b[0mshape\u001b[0m\u001b[0;34m[\u001b[0m\u001b[0;36m0\u001b[0m\u001b[0;34m]\u001b[0m\u001b[0;34m\u001b[0m\u001b[0m\n\u001b[1;32m     20\u001b[0m             \u001b[0mmse\u001b[0m \u001b[0;34m=\u001b[0m \u001b[0mnp\u001b[0m\u001b[0;34m.\u001b[0m\u001b[0mpower\u001b[0m\u001b[0;34m(\u001b[0m\u001b[0mnp\u001b[0m\u001b[0;34m.\u001b[0m\u001b[0mlinalg\u001b[0m\u001b[0;34m.\u001b[0m\u001b[0mnorm\u001b[0m\u001b[0;34m(\u001b[0m\u001b[0mbatch_\u001b[0m\u001b[0;34m.\u001b[0m\u001b[0mravel\u001b[0m\u001b[0;34m(\u001b[0m\u001b[0;34m)\u001b[0m \u001b[0;34m-\u001b[0m \u001b[0mrec\u001b[0m\u001b[0;34m.\u001b[0m\u001b[0mravel\u001b[0m\u001b[0;34m(\u001b[0m\u001b[0;34m)\u001b[0m\u001b[0;34m)\u001b[0m\u001b[0;34m,\u001b[0m\u001b[0;36m2\u001b[0m\u001b[0;34m)\u001b[0m\u001b[0;34m/\u001b[0m\u001b[0;34m(\u001b[0m\u001b[0;36m1.0\u001b[0m\u001b[0;34m*\u001b[0m\u001b[0mn\u001b[0m\u001b[0;34m)\u001b[0m\u001b[0;34m\u001b[0m\u001b[0m\n",
      "\u001b[0;32m/home/dave/.local/lib/python2.7/site-packages/numpy/lib/npyio.pyc\u001b[0m in \u001b[0;36mload\u001b[0;34m(file, mmap_mode, allow_pickle, fix_imports, encoding)\u001b[0m\n\u001b[1;32m    370\u001b[0m     \u001b[0mown_fid\u001b[0m \u001b[0;34m=\u001b[0m \u001b[0mFalse\u001b[0m\u001b[0;34m\u001b[0m\u001b[0m\n\u001b[1;32m    371\u001b[0m     \u001b[0;32mif\u001b[0m \u001b[0misinstance\u001b[0m\u001b[0;34m(\u001b[0m\u001b[0mfile\u001b[0m\u001b[0;34m,\u001b[0m \u001b[0mbasestring\u001b[0m\u001b[0;34m)\u001b[0m\u001b[0;34m:\u001b[0m\u001b[0;34m\u001b[0m\u001b[0m\n\u001b[0;32m--> 372\u001b[0;31m         \u001b[0mfid\u001b[0m \u001b[0;34m=\u001b[0m \u001b[0mopen\u001b[0m\u001b[0;34m(\u001b[0m\u001b[0mfile\u001b[0m\u001b[0;34m,\u001b[0m \u001b[0;34m\"rb\"\u001b[0m\u001b[0;34m)\u001b[0m\u001b[0;34m\u001b[0m\u001b[0m\n\u001b[0m\u001b[1;32m    373\u001b[0m         \u001b[0mown_fid\u001b[0m \u001b[0;34m=\u001b[0m \u001b[0mTrue\u001b[0m\u001b[0;34m\u001b[0m\u001b[0m\n\u001b[1;32m    374\u001b[0m     \u001b[0;32melif\u001b[0m \u001b[0mis_pathlib_path\u001b[0m\u001b[0;34m(\u001b[0m\u001b[0mfile\u001b[0m\u001b[0;34m)\u001b[0m\u001b[0;34m:\u001b[0m\u001b[0;34m\u001b[0m\u001b[0m\n",
      "\u001b[0;31mIOError\u001b[0m: [Errno 2] No such file or directory: '/home/dave/Documents/comp_sensing/cs_dip/csdip_code/cs_dip/repo_public/reconstructions/xray/csdip/meas500/im1.npy'"
     ]
    }
   ],
   "source": [
    "RECONSTRUCTIONS = dict()\n",
    "MSE = dict()\n",
    "for BASIS in BASIS_LIST:\n",
    "    RECONSTRUCTIONS[BASIS] = dict()\n",
    "    MSE[BASIS] = dict()\n",
    "    for NUM_MEASUREMENTS in NUM_MEASUREMENTS_LIST:\n",
    "        RECONSTRUCTIONS[BASIS][NUM_MEASUREMENTS] = list()\n",
    "        MSE[BASIS][NUM_MEASUREMENTS] = list()\n",
    "        args.NUM_MEASUREMENTS = NUM_MEASUREMENTS\n",
    "        args.BASIS = BASIS\n",
    "        for _, (batch, _, im_path) in enumerate(dataloader):\n",
    "            batch_ = batch.numpy()[0][0]\n",
    "            rec_path = utils.get_path_out(args,im_path)\n",
    "            if BASIS == 'bm3d':\n",
    "                rec = sio.loadmat(rec_path)['x_hat']\n",
    "                rec = utils.renorm_bm3d(rec) # convert [0,255] --> [-1,1]\n",
    "            else:\n",
    "                rec = np.load(rec_path)\n",
    "            n = rec.ravel().shape[0]\n",
    "            mse = np.power(np.linalg.norm(batch_.ravel() - rec.ravel()),2)/(1.0*n)\n",
    "            RECONSTRUCTIONS[BASIS][NUM_MEASUREMENTS].append(rec)\n",
    "            MSE[BASIS][NUM_MEASUREMENTS].append(mse)"
   ]
  },
  {
   "cell_type": "markdown",
   "metadata": {},
   "source": [
    "# SET VALUES FOR MARKERS IN PLOT"
   ]
  },
  {
   "cell_type": "code",
   "execution_count": null,
   "metadata": {
    "collapsed": true
   },
   "outputs": [],
   "source": [
    "KWARGS_DICT = {'csdip':{\"fmt\":'r-', \"label\":'Ours', \"marker\":\"^\", \"markersize\":7,\"capsize\":4., \"linewidth\":1, \"elinewidth\":1},\n",
    "              'dct':{\"fmt\":'g-', \"label\":'Lasso-DCT', \"marker\":\"s\", \"markersize\":7,\"capsize\":4., \"linewidth\":1, \"elinewidth\":1, \"markerfacecolor\":'None'},\n",
    "              'wavelet':{\"fmt\":'b-', \"label\":'Lasso-DB4', \"marker\":\"D\", \"markersize\":7,\"capsize\":4., \"linewidth\":1, \"elinewidth\":1, \"markerfacecolor\":'None'},\n",
    "               'bm3d':{\"fmt\":'o-', \"label\":'BM3D', \"marker\":\"D\", \"markersize\":7,\"capsize\":4., \"linewidth\":1, \"elinewidth\":1, \"markerfacecolor\":'None'},\n",
    "               'tval3':{\"fmt\":'v-', \"label\":'TVAL3', \"marker\":\"D\", \"markersize\":7,\"capsize\":4., \"linewidth\":1, \"elinewidth\":1, \"markerfacecolor\":'None'}\n",
    "              }"
   ]
  },
  {
   "cell_type": "markdown",
   "metadata": {},
   "source": [
    "# PLOT MSE VALUES"
   ]
  },
  {
   "cell_type": "code",
   "execution_count": null,
   "metadata": {},
   "outputs": [],
   "source": [
    "import seaborn as sns\n",
    "sns.set_style('darkgrid')\n",
    "\n",
    "for BASIS in BASIS_LIST:\n",
    "    kwargs = KWARGS_DICT[BASIS]\n",
    "    y_temp = []\n",
    "    y_error = []\n",
    "    x_temp = NUM_MEASUREMENTS_LIST\n",
    "    for NUM_MEASUREMENTS in NUM_MEASUREMENTS_LIST:\n",
    "        n = len(MSE[BASIS][NUM_MEASUREMENTS])\n",
    "        mse = np.mean(MSE[BASIS][NUM_MEASUREMENTS])\n",
    "        error = np.std(MSE[BASIS][NUM_MEASUREMENTS]) / np.sqrt(1.0*n)\n",
    "        y_temp.append(mse)\n",
    "        y_error.append(error)\n",
    "    plt.errorbar(x_temp,y_temp,y_error,**kwargs)\n",
    "    \n",
    "plt.ylim([0,0.005])\n",
    "plt.ylabel('Reconstruction error per pixel')\n",
    "plt.xlabel('Number of measurements')\n",
    "plt.xticks(NUM_MEASUREMENTS_LIST,NUM_MEASUREMENTS_LIST, rotation=90)\n",
    "plt.legend(loc='upper right')\n",
    "\n",
    "# pdf_save_path = args.MSE_PLOT_PATH\n",
    "# pdf = PdfPages(pdf_save_path)\n",
    "# pdf.savefig(bbox_inches='tight')\n",
    "# pdf.close()\n",
    "\n",
    "plt.show()"
   ]
  },
  {
   "cell_type": "markdown",
   "metadata": {},
   "source": [
    "# PLOT RECONSTRUCTIONS"
   ]
  },
  {
   "cell_type": "code",
   "execution_count": null,
   "metadata": {
    "scrolled": false
   },
   "outputs": [],
   "source": [
    "figure_height = 5\n",
    "\n",
    "NUM_PLOT = 5\n",
    "IMG_SIZE = args.IMG_SIZE\n",
    "NUM_CHANNELS = args.NUM_CHANNELS\n",
    "xx = range(NUM_PLOT)\n",
    "\n",
    "def plot_image(image, cmap = None):\n",
    "    frame=plt.gca()\n",
    "    frame.axes.get_xaxis().set_visible(False)\n",
    "    frame.axes.get_yaxis().set_visible(False)\n",
    "    frame = frame.imshow(image, cmap=cmap)\n",
    "\n",
    "def renorm(x):\n",
    "    return 0.5*x + 0.5\n",
    "\n",
    "\n",
    "for NUM_MEASUREMENTS in NUM_MEASUREMENTS_LIST:\n",
    "    fig = plt.figure(figsize=[2* NUM_PLOT, 2* figure_height])\n",
    "\n",
    "    outer_counter = 0\n",
    "    inner_counter = 0\n",
    "\n",
    "\n",
    "    # Show original images\n",
    "    outer_counter += 1\n",
    "    for k, (batch, _ , im_path) in enumerate(dataloader):\n",
    "        if k not in xx:\n",
    "            continue\n",
    "        inner_counter += 1\n",
    "        ax = fig.add_subplot(figure_height, 1, outer_counter, frameon=False)\n",
    "        ax.get_xaxis().set_visible(False)\n",
    "        ax.get_yaxis().set_ticks([])\n",
    "        ax.set_ylabel('Original', fontsize=14)\n",
    "        _ = fig.add_subplot(figure_height, NUM_PLOT, inner_counter)\n",
    "        plot_image(renorm(batch[0].cpu().numpy().reshape((IMG_SIZE,IMG_SIZE))), cmap='gray')\n",
    "\n",
    "        if inner_counter == NUM_PLOT:\n",
    "            break\n",
    "    # plot reconstructions\n",
    "    for i,BASIS in enumerate(BASIS_LIST):\n",
    "        \n",
    "        outer_counter += 1\n",
    "        for k, image in enumerate(RECONSTRUCTIONS[BASIS][NUM_MEASUREMENTS]):\n",
    "            if k not in xx:\n",
    "                continue\n",
    "            inner_counter += 1\n",
    "            ax = fig.add_subplot(figure_height, 1, outer_counter, frameon=False)\n",
    "            ax.get_xaxis().set_visible(False)\n",
    "            ax.get_yaxis().set_ticks([])\n",
    "            ax.set_ylabel(KWARGS_DICT[BASIS]['label'], fontsize=14)\n",
    "            _ = fig.add_subplot(figure_height, NUM_PLOT, inner_counter)\n",
    "            plot_image(renorm(image.reshape(IMG_SIZE,IMG_SIZE)), cmap='gray')\n",
    "\n",
    "            if inner_counter == (i+2)*NUM_PLOT:\n",
    "                break\n",
    "\n",
    "    \n",
    "#     pdf_save_path = '{0}_{1}.pdf'.format(args.REC_PLOT_PATH,NUM_MEASUREMENTS)\n",
    "#     pdf = PdfPages(pdf_save_path)\n",
    "#     pdf.savefig(bbox_inches='tight')\n",
    "#     pdf.close()\n"
   ]
  },
  {
   "cell_type": "code",
   "execution_count": null,
   "metadata": {
    "collapsed": true
   },
   "outputs": [],
   "source": []
  }
 ],
 "metadata": {
  "kernelspec": {
   "display_name": "Python 2",
   "language": "python",
   "name": "python2"
  },
  "language_info": {
   "codemirror_mode": {
    "name": "ipython",
    "version": 2
   },
   "file_extension": ".py",
   "mimetype": "text/x-python",
   "name": "python",
   "nbconvert_exporter": "python",
   "pygments_lexer": "ipython2",
   "version": "2.7.12"
  }
 },
 "nbformat": 4,
 "nbformat_minor": 2
}
